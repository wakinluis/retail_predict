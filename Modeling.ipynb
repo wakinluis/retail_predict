{
 "cells": [
  {
   "cell_type": "markdown",
   "id": "2a5aaab4",
   "metadata": {},
   "source": [
    "# Import Libraries needed"
   ]
  },
  {
   "cell_type": "code",
   "execution_count": 48,
   "id": "c6c201df",
   "metadata": {},
   "outputs": [],
   "source": [
    "import pandas as pd\n",
    "from sklearn.model_selection import train_test_split\n",
    "from sklearn.metrics import mean_absolute_error, mean_squared_error, r2_score\n",
    "import re\n",
    "import matplotlib.pyplot as plt\n",
    "import seaborn as sns"
   ]
  },
  {
   "cell_type": "markdown",
   "id": "a8590642",
   "metadata": {},
   "source": [
    "# Import dataset"
   ]
  },
  {
   "cell_type": "code",
   "execution_count": 30,
   "id": "a5ea0e0e",
   "metadata": {},
   "outputs": [],
   "source": [
    "df = pd.read_csv(\"quezon_merged_all_months.csv\")"
   ]
  },
  {
   "cell_type": "markdown",
   "id": "9c9e88c5",
   "metadata": {},
   "source": [
    "# Feature Engineering"
   ]
  },
  {
   "cell_type": "code",
   "execution_count": null,
   "id": "22d9d5d3",
   "metadata": {},
   "outputs": [
    {
     "name": "stdout",
     "output_type": "stream",
     "text": [
      "Training set shape: (422, 29)\n",
      "Testing set shape: (106, 29)\n"
     ]
    }
   ],
   "source": [
    "# Convert 'Date' column to datetime objects\n",
    "df['Date'] = pd.to_datetime(df['Date'])\n",
    "\n",
    "# Extract time-based features from the 'Date' column\n",
    "df['Year'] = df['Date'].dt.year\n",
    "df['Month'] = df['Date'].dt.month\n",
    "df['Day'] = df['Date'].dt.day\n",
    "df['DayOfYear'] = df['Date'].dt.dayofyear\n",
    "\n",
    "# Convert 'Phase' into a numerical feature (1 for First Phase, 2 for Second Phase)\n",
    "df['Phase_Num'] = df['Phase'].apply(lambda x: 1 if 'First' in x else 2)\n",
    "\n",
    "# --- Encoding Categorical Features ---\n",
    "# Use One-Hot Encoding for 'Commodity' and 'CommodityType'\n",
    "# This creates new binary columns for each category\n",
    "df_processed = pd.get_dummies(df, columns=['Commodity', 'CommodityType'], drop_first=True)\n",
    "df_processed.columns = [re.sub(r'[^A-Za-z0-9_]+', '_', col) for col in df_processed.columns]\n",
    "\n",
    "# --- Define Features (X) and Target (y) ---\n",
    "X = df_processed.drop(columns=['Province', 'Phase', 'Price', 'Date'])\n",
    "y = df_processed['Price']\n",
    "\n",
    "# --- Split Data into Training and Testing Sets ---\n",
    "# 80% for training, 20% for testing. random_state ensures reproducibility.\n",
    "X_train, X_test, y_train, y_test = train_test_split(X, y, test_size=0.2, random_state=42)\n",
    "\n",
    "print(f\"Training set shape: {X_train.shape}\")\n",
    "print(f\"Testing set shape: {X_test.shape}\")"
   ]
  },
  {
   "cell_type": "markdown",
   "id": "fdfaf49b",
   "metadata": {},
   "source": [
    "# Linear Regression Model"
   ]
  },
  {
   "cell_type": "code",
   "execution_count": 32,
   "id": "e04dac0b",
   "metadata": {},
   "outputs": [
    {
     "name": "stdout",
     "output_type": "stream",
     "text": [
      "\n",
      "--- Linear Regression Results ---\n",
      "Mean Absolute Error (MAE): 19.54\n",
      "Mean Squared Error (MSE): 1013.93\n",
      "R-squared (R²): 0.9474\n"
     ]
    }
   ],
   "source": [
    "from sklearn.linear_model import LinearRegression\n",
    "\n",
    "# 1. Initialize the model\n",
    "lr_model = LinearRegression()\n",
    "\n",
    "# 2. Train the model on the training data\n",
    "lr_model.fit(X_train, y_train)\n",
    "\n",
    "# 3. Make predictions on the test data\n",
    "y_pred_lr = lr_model.predict(X_test)\n",
    "\n",
    "# 4. Evaluate the model\n",
    "mae_lr = mean_absolute_error(y_test, y_pred_lr)\n",
    "mse_lr = mean_squared_error(y_test, y_pred_lr)\n",
    "r2_lr = r2_score(y_test, y_pred_lr)\n",
    "\n",
    "print(\"\\n--- Linear Regression Results ---\")\n",
    "print(f\"Mean Absolute Error (MAE): {mae_lr:.2f}\")\n",
    "print(f\"Mean Squared Error (MSE): {mse_lr:.2f}\")\n",
    "print(f\"R-squared (R²): {r2_lr:.4f}\")"
   ]
  },
  {
   "cell_type": "markdown",
   "id": "a6c1c58b",
   "metadata": {},
   "source": [
    "# Random Forest Regressor Model"
   ]
  },
  {
   "cell_type": "code",
   "execution_count": 33,
   "id": "c0a665da",
   "metadata": {},
   "outputs": [
    {
     "name": "stdout",
     "output_type": "stream",
     "text": [
      "\n",
      "--- Random Forest Regressor Results ---\n",
      "Mean Absolute Error (MAE): 11.73\n",
      "Mean Squared Error (MSE): 516.95\n",
      "R-squared (R²): 0.9732\n"
     ]
    }
   ],
   "source": [
    "from sklearn.ensemble import RandomForestRegressor\n",
    "\n",
    "# 1. Initialize the model\n",
    "rf_model = RandomForestRegressor(n_estimators=100, random_state=42, n_jobs=-1)\n",
    "\n",
    "# 2. Train the model\n",
    "rf_model.fit(X_train, y_train)\n",
    "\n",
    "# 3. Make predictions\n",
    "y_pred_rf = rf_model.predict(X_test)\n",
    "\n",
    "# 4. Evaluate the model\n",
    "mae_rf = mean_absolute_error(y_test, y_pred_rf)\n",
    "mse_rf = mean_squared_error(y_test, y_pred_rf)\n",
    "r2_rf = r2_score(y_test, y_pred_rf)\n",
    "\n",
    "print(\"\\n--- Random Forest Regressor Results ---\")\n",
    "print(f\"Mean Absolute Error (MAE): {mae_rf:.2f}\")\n",
    "print(f\"Mean Squared Error (MSE): {mse_rf:.2f}\")\n",
    "print(f\"R-squared (R²): {r2_rf:.4f}\")"
   ]
  },
  {
   "cell_type": "markdown",
   "id": "0887c853",
   "metadata": {},
   "source": [
    "# XGBoost Model"
   ]
  },
  {
   "cell_type": "code",
   "execution_count": 34,
   "id": "ee0bf85b",
   "metadata": {},
   "outputs": [
    {
     "name": "stdout",
     "output_type": "stream",
     "text": [
      "\n",
      "--- XGBoost Regressor Results ---\n",
      "Mean Absolute Error (MAE): 12.33\n",
      "Mean Squared Error (MSE): 600.07\n",
      "R-squared (R²): 0.9689\n"
     ]
    }
   ],
   "source": [
    "import xgboost as xgb\n",
    "\n",
    "# 1. Initialize the model\n",
    "xgb_model = xgb.XGBRegressor(objective='reg:squarederror', n_estimators=100, random_state=42)\n",
    "\n",
    "# 2. Train the model\n",
    "xgb_model.fit(X_train, y_train)\n",
    "\n",
    "# 3. Make predictions\n",
    "y_pred_xgb = xgb_model.predict(X_test)\n",
    "\n",
    "# 4. Evaluate the model\n",
    "mae_xgb = mean_absolute_error(y_test, y_pred_xgb)\n",
    "mse_xgb = mean_squared_error(y_test, y_pred_xgb)\n",
    "r2_xgb = r2_score(y_test, y_pred_xgb)\n",
    "\n",
    "print(\"\\n--- XGBoost Regressor Results ---\")\n",
    "print(f\"Mean Absolute Error (MAE): {mae_xgb:.2f}\")\n",
    "print(f\"Mean Squared Error (MSE): {mse_xgb:.2f}\")\n",
    "print(f\"R-squared (R²): {r2_xgb:.4f}\")"
   ]
  },
  {
   "cell_type": "markdown",
   "id": "da2a4d24",
   "metadata": {},
   "source": [
    "# LightGBM Model"
   ]
  },
  {
   "cell_type": "code",
   "execution_count": 35,
   "id": "8df7f51f",
   "metadata": {},
   "outputs": [
    {
     "name": "stdout",
     "output_type": "stream",
     "text": [
      "\n",
      "--- LightGBM Regressor Results ---\n",
      "Mean Absolute Error (MAE): 30.45\n",
      "Mean Squared Error (MSE): 1964.62\n",
      "R-squared (R²): 0.8982\n"
     ]
    }
   ],
   "source": [
    "import lightgbm as lgb\n",
    "\n",
    "# 1. Initialize the model, setting verbosity=-1 to hide all non-error output.\n",
    "lgb_model = lgb.LGBMRegressor(\n",
    "    n_estimators=100, \n",
    "    random_state=42, \n",
    "    verbosity=-1  \n",
    ")\n",
    "\n",
    "# 2. Train the model\n",
    "lgb_model.fit(X_train, y_train)\n",
    "\n",
    "# 3. Make predictions\n",
    "y_pred_lgb = lgb_model.predict(X_test)\n",
    "\n",
    "# 4. Evaluate the model\n",
    "mae_lgb = mean_absolute_error(y_test, y_pred_lgb)\n",
    "mse_lgb = mean_squared_error(y_test, y_pred_lgb)\n",
    "r2_lgb = r2_score(y_test, y_pred_lgb)\n",
    "\n",
    "print(\"\\n--- LightGBM Regressor Results ---\")\n",
    "print(f\"Mean Absolute Error (MAE): {mae_lgb:.2f}\")\n",
    "print(f\"Mean Squared Error (MSE): {mse_lgb:.2f}\")\n",
    "print(f\"R-squared (R²): {r2_lgb:.4f}\")"
   ]
  },
  {
   "cell_type": "markdown",
   "id": "d66f0905",
   "metadata": {},
   "source": [
    "# SVR (Support Vector Regression) Model"
   ]
  },
  {
   "cell_type": "code",
   "execution_count": null,
   "id": "3978e059",
   "metadata": {},
   "outputs": [
    {
     "name": "stdout",
     "output_type": "stream",
     "text": [
      "\n",
      "--- Support Vector Regression (SVR) Results ---\n",
      "Mean Absolute Error (MAE): 15.93\n",
      "Mean Squared Error (MSE): 843.36\n",
      "R-squared (R²): 0.9563\n"
     ]
    }
   ],
   "source": [
    "from sklearn.svm import SVR\n",
    "from sklearn.preprocessing import StandardScaler\n",
    "\n",
    "# SVR is sensitive to feature scales, so we must scale the data.\n",
    "scaler_X = StandardScaler()\n",
    "X_train_scaled = scaler_X.fit_transform(X_train)\n",
    "X_test_scaled = scaler_X.transform(X_test)\n",
    "\n",
    "# 1. Initialize the model\n",
    "svr_model = SVR(kernel='rbf', C=100, gamma='auto')\n",
    "\n",
    "# 2. Train the model on the SCALED data\n",
    "svr_model.fit(X_train_scaled, y_train)\n",
    "\n",
    "# 3. Make predictions on the SCALED test data\n",
    "y_pred_svr = svr_model.predict(X_test_scaled)\n",
    "\n",
    "# 4. Evaluate the model\n",
    "mae_svr = mean_absolute_error(y_test, y_pred_svr)\n",
    "mse_svr = mean_squared_error(y_test, y_pred_svr)\n",
    "r2_svr = r2_score(y_test, y_pred_svr)\n",
    "\n",
    "print(\"\\n--- Support Vector Regression (SVR) Results ---\")\n",
    "print(f\"Mean Absolute Error (MAE): {mae_svr:.2f}\")\n",
    "print(f\"Mean Squared Error (MSE): {mse_svr:.2f}\")\n",
    "print(f\"R-squared (R²): {r2_svr:.4f}\")"
   ]
  },
  {
   "cell_type": "markdown",
   "id": "5130f62c",
   "metadata": {},
   "source": [
    "# LSTM Model"
   ]
  },
  {
   "cell_type": "code",
   "execution_count": null,
   "id": "bed34848",
   "metadata": {},
   "outputs": [
    {
     "name": "stdout",
     "output_type": "stream",
     "text": [
      "Warning: Could not find column 'Commodity_AMPALAYA' for commodity 'AMPALAYA'. Skipping.\n",
      "Original shape of features: (528, 29)\n",
      "Shape of sequential features for LSTM: (441, 3, 29)\n",
      "Shape of sequential target for LSTM: (441,)\n"
     ]
    }
   ],
   "source": [
    "from sklearn.preprocessing import MinMaxScaler\n",
    "import tensorflow as tf\n",
    "from tensorflow.keras.models import Sequential\n",
    "from tensorflow.keras.layers import Input, LSTM, Dense, Dropout\n",
    "import numpy as np\n",
    "\n",
    "#1 LSTM-Specific Data Structuring\n",
    "TIME_STEPS = 3  # We will use the last 3 data points to predict the next one.\n",
    "\n",
    "def create_sequences(X_data, y_data, time_steps=1):\n",
    "    Xs, ys = [], []\n",
    "    for i in range(len(X_data) - time_steps):\n",
    "        v = X_data.iloc[i:(i + time_steps)].values\n",
    "        Xs.append(v)\n",
    "        ys.append(y_data.iloc[i + time_steps])\n",
    "    return np.array(Xs), np.array(ys)\n",
    "\n",
    "all_X_seq, all_y_seq = [], []\n",
    "\n",
    "# Group by commodity and create sequences for each one\n",
    "for commodity_name in df['Commodity'].unique():\n",
    "    cleaned_name = re.sub(r'[^A-Za-z0-9_]+', '_', commodity_name)\n",
    "    column_to_find = f'Commodity_{cleaned_name}'\n",
    "\n",
    "    # Check if the cleaned column name actually exists\n",
    "    if column_to_find not in df_processed.columns:\n",
    "        print(f\"Warning: Could not find column '{column_to_find}' for commodity '{commodity_name}'. Skipping.\")\n",
    "        continue\n",
    "        \n",
    "    # Filter data for the current commodity, sorted by date\n",
    "    # USE THE CLEANED NAME to find the column\n",
    "    commodity_df = df_processed[df_processed[column_to_find] == 1].sort_values('Date')\n",
    "\n",
    "    if len(commodity_df) < TIME_STEPS + 1:\n",
    "        continue\n",
    "\n",
    "    # Define features and target for this specific commodity\n",
    "    y_commodity = commodity_df['Price']\n",
    "    X_commodity = commodity_df.drop(columns=['Price', 'Province', 'Phase', 'Date'])\n",
    "    \n",
    "    # Create the sequences\n",
    "    X_seq, y_seq = create_sequences(X_commodity, y_commodity, TIME_STEPS)\n",
    "    \n",
    "    if X_seq.shape[0] > 0:\n",
    "        all_X_seq.append(X_seq)\n",
    "        all_y_seq.append(y_seq)\n",
    "\n",
    "# Combine all sequences into one large dataset, if any were created\n",
    "if not all_X_seq:\n",
    "    print(\"Error: No sequences were created. Check data and parameters.\")\n",
    "else:\n",
    "    X_lstm = np.concatenate(all_X_seq)\n",
    "    y_lstm = np.concatenate(all_y_seq)\n",
    "\n",
    "    print(f\"Original shape of features: {X.shape}\")\n",
    "    print(f\"Shape of sequential features for LSTM: {X_lstm.shape}\")\n",
    "    print(f\"Shape of sequential target for LSTM: {y_lstm.shape}\")"
   ]
  },
  {
   "cell_type": "code",
   "execution_count": 55,
   "id": "8b8a704a",
   "metadata": {},
   "outputs": [
    {
     "name": "stdout",
     "output_type": "stream",
     "text": [
      "\n",
      "Shape of sequential features for LSTM: (441, 3, 29)\n",
      "Shape of sequential target for LSTM: (441,)\n"
     ]
    }
   ],
   "source": [
    "#2: Combine, Split, and Scale LSTM Data\n",
    "if not all_X_seq:\n",
    "    print(\"Error: No sequences were created for the LSTM. The script cannot continue with the LSTM part.\")\n",
    "else:\n",
    "    X_lstm = np.concatenate(all_X_seq)\n",
    "    y_lstm = np.concatenate(all_y_seq)\n",
    "    print(f\"\\nShape of sequential features for LSTM: {X_lstm.shape}\")\n",
    "    print(f\"Shape of sequential target for LSTM: {y_lstm.shape}\")\n",
    "\n",
    "    X_train_lstm, X_test_lstm, y_train_lstm, y_test_lstm = train_test_split(\n",
    "        X_lstm, y_lstm, test_size=0.2, random_state=42\n",
    "    )\n",
    "\n",
    "    # Scale LSTM features (3D -> 2D -> scale -> 3D)\n",
    "    n_features = X_train_lstm.shape[2]\n",
    "    scaler_X_lstm = StandardScaler()\n",
    "    X_train_scaled = scaler_X_lstm.fit_transform(X_train_lstm.reshape(-1, n_features)).reshape(X_train_lstm.shape)\n",
    "    X_test_scaled = scaler_X_lstm.transform(X_test_lstm.reshape(-1, n_features)).reshape(X_test_lstm.shape)\n",
    "\n",
    "    # Scale LSTM target\n",
    "    scaler_y_lstm = StandardScaler()\n",
    "    y_train_scaled = scaler_y_lstm.fit_transform(y_train_lstm.reshape(-1, 1))"
   ]
  },
  {
   "cell_type": "code",
   "execution_count": 47,
   "id": "f7190673",
   "metadata": {},
   "outputs": [
    {
     "data": {
      "text/html": [
       "<pre style=\"white-space:pre;overflow-x:auto;line-height:normal;font-family:Menlo,'DejaVu Sans Mono',consolas,'Courier New',monospace\"><span style=\"font-weight: bold\">Model: \"sequential\"</span>\n",
       "</pre>\n"
      ],
      "text/plain": [
       "\u001b[1mModel: \"sequential\"\u001b[0m\n"
      ]
     },
     "metadata": {},
     "output_type": "display_data"
    },
    {
     "data": {
      "text/html": [
       "<pre style=\"white-space:pre;overflow-x:auto;line-height:normal;font-family:Menlo,'DejaVu Sans Mono',consolas,'Courier New',monospace\">┏━━━━━━━━━━━━━━━━━━━━━━━━━━━━━━━━━┳━━━━━━━━━━━━━━━━━━━━━━━━┳━━━━━━━━━━━━━━━┓\n",
       "┃<span style=\"font-weight: bold\"> Layer (type)                    </span>┃<span style=\"font-weight: bold\"> Output Shape           </span>┃<span style=\"font-weight: bold\">       Param # </span>┃\n",
       "┡━━━━━━━━━━━━━━━━━━━━━━━━━━━━━━━━━╇━━━━━━━━━━━━━━━━━━━━━━━━╇━━━━━━━━━━━━━━━┩\n",
       "│ lstm (<span style=\"color: #0087ff; text-decoration-color: #0087ff\">LSTM</span>)                     │ (<span style=\"color: #00d7ff; text-decoration-color: #00d7ff\">None</span>, <span style=\"color: #00af00; text-decoration-color: #00af00\">3</span>, <span style=\"color: #00af00; text-decoration-color: #00af00\">50</span>)          │        <span style=\"color: #00af00; text-decoration-color: #00af00\">16,000</span> │\n",
       "├─────────────────────────────────┼────────────────────────┼───────────────┤\n",
       "│ dropout (<span style=\"color: #0087ff; text-decoration-color: #0087ff\">Dropout</span>)               │ (<span style=\"color: #00d7ff; text-decoration-color: #00d7ff\">None</span>, <span style=\"color: #00af00; text-decoration-color: #00af00\">3</span>, <span style=\"color: #00af00; text-decoration-color: #00af00\">50</span>)          │             <span style=\"color: #00af00; text-decoration-color: #00af00\">0</span> │\n",
       "├─────────────────────────────────┼────────────────────────┼───────────────┤\n",
       "│ lstm_1 (<span style=\"color: #0087ff; text-decoration-color: #0087ff\">LSTM</span>)                   │ (<span style=\"color: #00d7ff; text-decoration-color: #00d7ff\">None</span>, <span style=\"color: #00af00; text-decoration-color: #00af00\">50</span>)             │        <span style=\"color: #00af00; text-decoration-color: #00af00\">20,200</span> │\n",
       "├─────────────────────────────────┼────────────────────────┼───────────────┤\n",
       "│ dropout_1 (<span style=\"color: #0087ff; text-decoration-color: #0087ff\">Dropout</span>)             │ (<span style=\"color: #00d7ff; text-decoration-color: #00d7ff\">None</span>, <span style=\"color: #00af00; text-decoration-color: #00af00\">50</span>)             │             <span style=\"color: #00af00; text-decoration-color: #00af00\">0</span> │\n",
       "├─────────────────────────────────┼────────────────────────┼───────────────┤\n",
       "│ dense (<span style=\"color: #0087ff; text-decoration-color: #0087ff\">Dense</span>)                   │ (<span style=\"color: #00d7ff; text-decoration-color: #00d7ff\">None</span>, <span style=\"color: #00af00; text-decoration-color: #00af00\">25</span>)             │         <span style=\"color: #00af00; text-decoration-color: #00af00\">1,275</span> │\n",
       "├─────────────────────────────────┼────────────────────────┼───────────────┤\n",
       "│ dense_1 (<span style=\"color: #0087ff; text-decoration-color: #0087ff\">Dense</span>)                 │ (<span style=\"color: #00d7ff; text-decoration-color: #00d7ff\">None</span>, <span style=\"color: #00af00; text-decoration-color: #00af00\">1</span>)              │            <span style=\"color: #00af00; text-decoration-color: #00af00\">26</span> │\n",
       "└─────────────────────────────────┴────────────────────────┴───────────────┘\n",
       "</pre>\n"
      ],
      "text/plain": [
       "┏━━━━━━━━━━━━━━━━━━━━━━━━━━━━━━━━━┳━━━━━━━━━━━━━━━━━━━━━━━━┳━━━━━━━━━━━━━━━┓\n",
       "┃\u001b[1m \u001b[0m\u001b[1mLayer (type)                   \u001b[0m\u001b[1m \u001b[0m┃\u001b[1m \u001b[0m\u001b[1mOutput Shape          \u001b[0m\u001b[1m \u001b[0m┃\u001b[1m \u001b[0m\u001b[1m      Param #\u001b[0m\u001b[1m \u001b[0m┃\n",
       "┡━━━━━━━━━━━━━━━━━━━━━━━━━━━━━━━━━╇━━━━━━━━━━━━━━━━━━━━━━━━╇━━━━━━━━━━━━━━━┩\n",
       "│ lstm (\u001b[38;5;33mLSTM\u001b[0m)                     │ (\u001b[38;5;45mNone\u001b[0m, \u001b[38;5;34m3\u001b[0m, \u001b[38;5;34m50\u001b[0m)          │        \u001b[38;5;34m16,000\u001b[0m │\n",
       "├─────────────────────────────────┼────────────────────────┼───────────────┤\n",
       "│ dropout (\u001b[38;5;33mDropout\u001b[0m)               │ (\u001b[38;5;45mNone\u001b[0m, \u001b[38;5;34m3\u001b[0m, \u001b[38;5;34m50\u001b[0m)          │             \u001b[38;5;34m0\u001b[0m │\n",
       "├─────────────────────────────────┼────────────────────────┼───────────────┤\n",
       "│ lstm_1 (\u001b[38;5;33mLSTM\u001b[0m)                   │ (\u001b[38;5;45mNone\u001b[0m, \u001b[38;5;34m50\u001b[0m)             │        \u001b[38;5;34m20,200\u001b[0m │\n",
       "├─────────────────────────────────┼────────────────────────┼───────────────┤\n",
       "│ dropout_1 (\u001b[38;5;33mDropout\u001b[0m)             │ (\u001b[38;5;45mNone\u001b[0m, \u001b[38;5;34m50\u001b[0m)             │             \u001b[38;5;34m0\u001b[0m │\n",
       "├─────────────────────────────────┼────────────────────────┼───────────────┤\n",
       "│ dense (\u001b[38;5;33mDense\u001b[0m)                   │ (\u001b[38;5;45mNone\u001b[0m, \u001b[38;5;34m25\u001b[0m)             │         \u001b[38;5;34m1,275\u001b[0m │\n",
       "├─────────────────────────────────┼────────────────────────┼───────────────┤\n",
       "│ dense_1 (\u001b[38;5;33mDense\u001b[0m)                 │ (\u001b[38;5;45mNone\u001b[0m, \u001b[38;5;34m1\u001b[0m)              │            \u001b[38;5;34m26\u001b[0m │\n",
       "└─────────────────────────────────┴────────────────────────┴───────────────┘\n"
      ]
     },
     "metadata": {},
     "output_type": "display_data"
    },
    {
     "data": {
      "text/html": [
       "<pre style=\"white-space:pre;overflow-x:auto;line-height:normal;font-family:Menlo,'DejaVu Sans Mono',consolas,'Courier New',monospace\"><span style=\"font-weight: bold\"> Total params: </span><span style=\"color: #00af00; text-decoration-color: #00af00\">37,501</span> (146.49 KB)\n",
       "</pre>\n"
      ],
      "text/plain": [
       "\u001b[1m Total params: \u001b[0m\u001b[38;5;34m37,501\u001b[0m (146.49 KB)\n"
      ]
     },
     "metadata": {},
     "output_type": "display_data"
    },
    {
     "data": {
      "text/html": [
       "<pre style=\"white-space:pre;overflow-x:auto;line-height:normal;font-family:Menlo,'DejaVu Sans Mono',consolas,'Courier New',monospace\"><span style=\"font-weight: bold\"> Trainable params: </span><span style=\"color: #00af00; text-decoration-color: #00af00\">37,501</span> (146.49 KB)\n",
       "</pre>\n"
      ],
      "text/plain": [
       "\u001b[1m Trainable params: \u001b[0m\u001b[38;5;34m37,501\u001b[0m (146.49 KB)\n"
      ]
     },
     "metadata": {},
     "output_type": "display_data"
    },
    {
     "data": {
      "text/html": [
       "<pre style=\"white-space:pre;overflow-x:auto;line-height:normal;font-family:Menlo,'DejaVu Sans Mono',consolas,'Courier New',monospace\"><span style=\"font-weight: bold\"> Non-trainable params: </span><span style=\"color: #00af00; text-decoration-color: #00af00\">0</span> (0.00 B)\n",
       "</pre>\n"
      ],
      "text/plain": [
       "\u001b[1m Non-trainable params: \u001b[0m\u001b[38;5;34m0\u001b[0m (0.00 B)\n"
      ]
     },
     "metadata": {},
     "output_type": "display_data"
    },
    {
     "name": "stdout",
     "output_type": "stream",
     "text": [
      "Epoch 1/50\n",
      "\u001b[1m10/10\u001b[0m \u001b[32m━━━━━━━━━━━━━━━━━━━━\u001b[0m\u001b[37m\u001b[0m \u001b[1m4s\u001b[0m 64ms/step - loss: 0.8736 - val_loss: 0.8303\n",
      "Epoch 2/50\n",
      "\u001b[1m10/10\u001b[0m \u001b[32m━━━━━━━━━━━━━━━━━━━━\u001b[0m\u001b[37m\u001b[0m \u001b[1m0s\u001b[0m 15ms/step - loss: 0.7329 - val_loss: 0.5495\n",
      "Epoch 3/50\n",
      "\u001b[1m10/10\u001b[0m \u001b[32m━━━━━━━━━━━━━━━━━━━━\u001b[0m\u001b[37m\u001b[0m \u001b[1m0s\u001b[0m 13ms/step - loss: 0.4696 - val_loss: 0.2127\n",
      "Epoch 4/50\n",
      "\u001b[1m10/10\u001b[0m \u001b[32m━━━━━━━━━━━━━━━━━━━━\u001b[0m\u001b[37m\u001b[0m \u001b[1m0s\u001b[0m 13ms/step - loss: 0.1884 - val_loss: 0.0670\n",
      "Epoch 5/50\n",
      "\u001b[1m10/10\u001b[0m \u001b[32m━━━━━━━━━━━━━━━━━━━━\u001b[0m\u001b[37m\u001b[0m \u001b[1m0s\u001b[0m 12ms/step - loss: 0.0858 - val_loss: 0.0556\n",
      "Epoch 6/50\n",
      "\u001b[1m10/10\u001b[0m \u001b[32m━━━━━━━━━━━━━━━━━━━━\u001b[0m\u001b[37m\u001b[0m \u001b[1m0s\u001b[0m 11ms/step - loss: 0.0541 - val_loss: 0.0393\n",
      "Epoch 7/50\n",
      "\u001b[1m10/10\u001b[0m \u001b[32m━━━━━━━━━━━━━━━━━━━━\u001b[0m\u001b[37m\u001b[0m \u001b[1m0s\u001b[0m 11ms/step - loss: 0.0718 - val_loss: 0.0351\n",
      "Epoch 8/50\n",
      "\u001b[1m10/10\u001b[0m \u001b[32m━━━━━━━━━━━━━━━━━━━━\u001b[0m\u001b[37m\u001b[0m \u001b[1m0s\u001b[0m 12ms/step - loss: 0.0602 - val_loss: 0.0295\n",
      "Epoch 9/50\n",
      "\u001b[1m10/10\u001b[0m \u001b[32m━━━━━━━━━━━━━━━━━━━━\u001b[0m\u001b[37m\u001b[0m \u001b[1m0s\u001b[0m 11ms/step - loss: 0.0540 - val_loss: 0.0212\n",
      "Epoch 10/50\n",
      "\u001b[1m10/10\u001b[0m \u001b[32m━━━━━━━━━━━━━━━━━━━━\u001b[0m\u001b[37m\u001b[0m \u001b[1m0s\u001b[0m 11ms/step - loss: 0.0502 - val_loss: 0.0241\n",
      "Epoch 11/50\n",
      "\u001b[1m10/10\u001b[0m \u001b[32m━━━━━━━━━━━━━━━━━━━━\u001b[0m\u001b[37m\u001b[0m \u001b[1m0s\u001b[0m 12ms/step - loss: 0.0463 - val_loss: 0.0292\n",
      "Epoch 12/50\n",
      "\u001b[1m10/10\u001b[0m \u001b[32m━━━━━━━━━━━━━━━━━━━━\u001b[0m\u001b[37m\u001b[0m \u001b[1m0s\u001b[0m 12ms/step - loss: 0.0476 - val_loss: 0.0247\n",
      "Epoch 13/50\n",
      "\u001b[1m10/10\u001b[0m \u001b[32m━━━━━━━━━━━━━━━━━━━━\u001b[0m\u001b[37m\u001b[0m \u001b[1m0s\u001b[0m 11ms/step - loss: 0.0474 - val_loss: 0.0277\n",
      "Epoch 14/50\n",
      "\u001b[1m10/10\u001b[0m \u001b[32m━━━━━━━━━━━━━━━━━━━━\u001b[0m\u001b[37m\u001b[0m \u001b[1m0s\u001b[0m 11ms/step - loss: 0.0530 - val_loss: 0.0301\n",
      "Epoch 15/50\n",
      "\u001b[1m10/10\u001b[0m \u001b[32m━━━━━━━━━━━━━━━━━━━━\u001b[0m\u001b[37m\u001b[0m \u001b[1m0s\u001b[0m 14ms/step - loss: 0.0465 - val_loss: 0.0232\n",
      "Epoch 16/50\n",
      "\u001b[1m10/10\u001b[0m \u001b[32m━━━━━━━━━━━━━━━━━━━━\u001b[0m\u001b[37m\u001b[0m \u001b[1m0s\u001b[0m 13ms/step - loss: 0.0448 - val_loss: 0.0225\n",
      "Epoch 17/50\n",
      "\u001b[1m10/10\u001b[0m \u001b[32m━━━━━━━━━━━━━━━━━━━━\u001b[0m\u001b[37m\u001b[0m \u001b[1m0s\u001b[0m 12ms/step - loss: 0.0431 - val_loss: 0.0220\n",
      "Epoch 18/50\n",
      "\u001b[1m10/10\u001b[0m \u001b[32m━━━━━━━━━━━━━━━━━━━━\u001b[0m\u001b[37m\u001b[0m \u001b[1m0s\u001b[0m 12ms/step - loss: 0.0468 - val_loss: 0.0216\n",
      "Epoch 19/50\n",
      "\u001b[1m10/10\u001b[0m \u001b[32m━━━━━━━━━━━━━━━━━━━━\u001b[0m\u001b[37m\u001b[0m \u001b[1m0s\u001b[0m 10ms/step - loss: 0.0408 - val_loss: 0.0213\n",
      "Epoch 20/50\n",
      "\u001b[1m10/10\u001b[0m \u001b[32m━━━━━━━━━━━━━━━━━━━━\u001b[0m\u001b[37m\u001b[0m \u001b[1m0s\u001b[0m 8ms/step - loss: 0.0455 - val_loss: 0.0218\n",
      "Epoch 21/50\n",
      "\u001b[1m10/10\u001b[0m \u001b[32m━━━━━━━━━━━━━━━━━━━━\u001b[0m\u001b[37m\u001b[0m \u001b[1m0s\u001b[0m 10ms/step - loss: 0.0460 - val_loss: 0.0222\n",
      "Epoch 22/50\n",
      "\u001b[1m10/10\u001b[0m \u001b[32m━━━━━━━━━━━━━━━━━━━━\u001b[0m\u001b[37m\u001b[0m \u001b[1m0s\u001b[0m 8ms/step - loss: 0.0458 - val_loss: 0.0213\n",
      "Epoch 23/50\n",
      "\u001b[1m10/10\u001b[0m \u001b[32m━━━━━━━━━━━━━━━━━━━━\u001b[0m\u001b[37m\u001b[0m \u001b[1m0s\u001b[0m 10ms/step - loss: 0.0419 - val_loss: 0.0190\n",
      "Epoch 24/50\n",
      "\u001b[1m10/10\u001b[0m \u001b[32m━━━━━━━━━━━━━━━━━━━━\u001b[0m\u001b[37m\u001b[0m \u001b[1m0s\u001b[0m 14ms/step - loss: 0.0392 - val_loss: 0.0194\n",
      "Epoch 25/50\n",
      "\u001b[1m10/10\u001b[0m \u001b[32m━━━━━━━━━━━━━━━━━━━━\u001b[0m\u001b[37m\u001b[0m \u001b[1m0s\u001b[0m 13ms/step - loss: 0.0390 - val_loss: 0.0227\n",
      "Epoch 26/50\n",
      "\u001b[1m10/10\u001b[0m \u001b[32m━━━━━━━━━━━━━━━━━━━━\u001b[0m\u001b[37m\u001b[0m \u001b[1m0s\u001b[0m 12ms/step - loss: 0.0433 - val_loss: 0.0228\n",
      "Epoch 27/50\n",
      "\u001b[1m10/10\u001b[0m \u001b[32m━━━━━━━━━━━━━━━━━━━━\u001b[0m\u001b[37m\u001b[0m \u001b[1m0s\u001b[0m 12ms/step - loss: 0.0390 - val_loss: 0.0256\n",
      "Epoch 28/50\n",
      "\u001b[1m10/10\u001b[0m \u001b[32m━━━━━━━━━━━━━━━━━━━━\u001b[0m\u001b[37m\u001b[0m \u001b[1m0s\u001b[0m 12ms/step - loss: 0.0407 - val_loss: 0.0208\n",
      "Epoch 29/50\n",
      "\u001b[1m10/10\u001b[0m \u001b[32m━━━━━━━━━━━━━━━━━━━━\u001b[0m\u001b[37m\u001b[0m \u001b[1m0s\u001b[0m 13ms/step - loss: 0.0313 - val_loss: 0.0224\n",
      "Epoch 30/50\n",
      "\u001b[1m10/10\u001b[0m \u001b[32m━━━━━━━━━━━━━━━━━━━━\u001b[0m\u001b[37m\u001b[0m \u001b[1m0s\u001b[0m 15ms/step - loss: 0.0389 - val_loss: 0.0163\n",
      "Epoch 31/50\n",
      "\u001b[1m10/10\u001b[0m \u001b[32m━━━━━━━━━━━━━━━━━━━━\u001b[0m\u001b[37m\u001b[0m \u001b[1m0s\u001b[0m 12ms/step - loss: 0.0345 - val_loss: 0.0186\n",
      "Epoch 32/50\n",
      "\u001b[1m10/10\u001b[0m \u001b[32m━━━━━━━━━━━━━━━━━━━━\u001b[0m\u001b[37m\u001b[0m \u001b[1m0s\u001b[0m 12ms/step - loss: 0.0337 - val_loss: 0.0208\n",
      "Epoch 33/50\n",
      "\u001b[1m10/10\u001b[0m \u001b[32m━━━━━━━━━━━━━━━━━━━━\u001b[0m\u001b[37m\u001b[0m \u001b[1m0s\u001b[0m 12ms/step - loss: 0.0335 - val_loss: 0.0228\n",
      "Epoch 34/50\n",
      "\u001b[1m10/10\u001b[0m \u001b[32m━━━━━━━━━━━━━━━━━━━━\u001b[0m\u001b[37m\u001b[0m \u001b[1m0s\u001b[0m 12ms/step - loss: 0.0352 - val_loss: 0.0201\n",
      "Epoch 35/50\n",
      "\u001b[1m10/10\u001b[0m \u001b[32m━━━━━━━━━━━━━━━━━━━━\u001b[0m\u001b[37m\u001b[0m \u001b[1m0s\u001b[0m 13ms/step - loss: 0.0366 - val_loss: 0.0207\n",
      "Epoch 36/50\n",
      "\u001b[1m10/10\u001b[0m \u001b[32m━━━━━━━━━━━━━━━━━━━━\u001b[0m\u001b[37m\u001b[0m \u001b[1m0s\u001b[0m 13ms/step - loss: 0.0335 - val_loss: 0.0180\n",
      "Epoch 37/50\n",
      "\u001b[1m10/10\u001b[0m \u001b[32m━━━━━━━━━━━━━━━━━━━━\u001b[0m\u001b[37m\u001b[0m \u001b[1m0s\u001b[0m 12ms/step - loss: 0.0347 - val_loss: 0.0186\n",
      "Epoch 38/50\n",
      "\u001b[1m10/10\u001b[0m \u001b[32m━━━━━━━━━━━━━━━━━━━━\u001b[0m\u001b[37m\u001b[0m \u001b[1m0s\u001b[0m 13ms/step - loss: 0.0343 - val_loss: 0.0213\n",
      "Epoch 39/50\n",
      "\u001b[1m10/10\u001b[0m \u001b[32m━━━━━━━━━━━━━━━━━━━━\u001b[0m\u001b[37m\u001b[0m \u001b[1m0s\u001b[0m 13ms/step - loss: 0.0453 - val_loss: 0.0179\n",
      "Epoch 40/50\n",
      "\u001b[1m10/10\u001b[0m \u001b[32m━━━━━━━━━━━━━━━━━━━━\u001b[0m\u001b[37m\u001b[0m \u001b[1m0s\u001b[0m 13ms/step - loss: 0.0315 - val_loss: 0.0191\n",
      "Epoch 41/50\n",
      "\u001b[1m10/10\u001b[0m \u001b[32m━━━━━━━━━━━━━━━━━━━━\u001b[0m\u001b[37m\u001b[0m \u001b[1m0s\u001b[0m 14ms/step - loss: 0.0324 - val_loss: 0.0171\n",
      "Epoch 42/50\n",
      "\u001b[1m10/10\u001b[0m \u001b[32m━━━━━━━━━━━━━━━━━━━━\u001b[0m\u001b[37m\u001b[0m \u001b[1m0s\u001b[0m 14ms/step - loss: 0.0345 - val_loss: 0.0154\n",
      "Epoch 43/50\n",
      "\u001b[1m10/10\u001b[0m \u001b[32m━━━━━━━━━━━━━━━━━━━━\u001b[0m\u001b[37m\u001b[0m \u001b[1m0s\u001b[0m 13ms/step - loss: 0.0383 - val_loss: 0.0148\n",
      "Epoch 44/50\n",
      "\u001b[1m10/10\u001b[0m \u001b[32m━━━━━━━━━━━━━━━━━━━━\u001b[0m\u001b[37m\u001b[0m \u001b[1m0s\u001b[0m 13ms/step - loss: 0.0308 - val_loss: 0.0195\n",
      "Epoch 45/50\n",
      "\u001b[1m10/10\u001b[0m \u001b[32m━━━━━━━━━━━━━━━━━━━━\u001b[0m\u001b[37m\u001b[0m \u001b[1m0s\u001b[0m 12ms/step - loss: 0.0373 - val_loss: 0.0182\n",
      "Epoch 46/50\n",
      "\u001b[1m10/10\u001b[0m \u001b[32m━━━━━━━━━━━━━━━━━━━━\u001b[0m\u001b[37m\u001b[0m \u001b[1m0s\u001b[0m 12ms/step - loss: 0.0363 - val_loss: 0.0229\n",
      "Epoch 47/50\n",
      "\u001b[1m10/10\u001b[0m \u001b[32m━━━━━━━━━━━━━━━━━━━━\u001b[0m\u001b[37m\u001b[0m \u001b[1m0s\u001b[0m 12ms/step - loss: 0.0436 - val_loss: 0.0178\n",
      "Epoch 48/50\n",
      "\u001b[1m10/10\u001b[0m \u001b[32m━━━━━━━━━━━━━━━━━━━━\u001b[0m\u001b[37m\u001b[0m \u001b[1m0s\u001b[0m 11ms/step - loss: 0.0300 - val_loss: 0.0156\n",
      "Epoch 49/50\n",
      "\u001b[1m10/10\u001b[0m \u001b[32m━━━━━━━━━━━━━━━━━━━━\u001b[0m\u001b[37m\u001b[0m \u001b[1m0s\u001b[0m 11ms/step - loss: 0.0290 - val_loss: 0.0156\n",
      "Epoch 50/50\n",
      "\u001b[1m10/10\u001b[0m \u001b[32m━━━━━━━━━━━━━━━━━━━━\u001b[0m\u001b[37m\u001b[0m \u001b[1m0s\u001b[0m 11ms/step - loss: 0.0274 - val_loss: 0.0142\n",
      "LSTM training complete.\n",
      "\u001b[1m3/3\u001b[0m \u001b[32m━━━━━━━━━━━━━━━━━━━━\u001b[0m\u001b[37m\u001b[0m \u001b[1m1s\u001b[0m 154ms/step\n",
      "\n",
      "LSTM Results -> MAE: 9.11, MSE: 166.22, R²: 0.9917\n"
     ]
    }
   ],
   "source": [
    "#3: Build, Train, and Evaluate LSTM \n",
    "\n",
    "lstm_model = Sequential([\n",
    "        Input(shape=(TIME_STEPS, n_features)),\n",
    "        LSTM(units=50, return_sequences=True),\n",
    "        Dropout(0.2),\n",
    "        LSTM(units=50),\n",
    "        Dropout(0.2),\n",
    "        Dense(units=25, activation='relu'),\n",
    "        Dense(units=1)\n",
    "    ])\n",
    "lstm_model.compile(optimizer='adam', loss='mean_squared_error')\n",
    "lstm_model.summary()\n",
    "\n",
    "history = lstm_model.fit(\n",
    "    X_train_scaled,\n",
    "    y_train_scaled,\n",
    "    epochs=50,\n",
    "    batch_size=32,\n",
    "    validation_split=0.1,\n",
    ")\n",
    "print(\"LSTM training complete.\")\n",
    "\n",
    "y_pred_scaled = lstm_model.predict(X_test_scaled)\n",
    "y_pred_lstm = scaler_y_lstm.inverse_transform(y_pred_scaled)\n",
    "\n",
    "mae_lstm = mean_absolute_error(y_test_lstm, y_pred_lstm)\n",
    "mse_lstm = mean_squared_error(y_test_lstm, y_pred_lstm)\n",
    "r2_lstm = r2_score(y_test_lstm, y_pred_lstm)\n",
    "print(f\"\\nLSTM Results -> MAE: {mae_lstm:.2f}, MSE: {mse_lstm:.2f}, R²: {r2_lstm:.4f}\")"
   ]
  },
  {
   "cell_type": "markdown",
   "id": "4652d254",
   "metadata": {},
   "source": [
    "# Model Evaluation/Comparison and Graphs"
   ]
  },
  {
   "cell_type": "markdown",
   "id": "c6ec6fb8",
   "metadata": {},
   "source": [
    "## Model Comparison"
   ]
  },
  {
   "cell_type": "code",
   "execution_count": 54,
   "id": "a3ebf251",
   "metadata": {},
   "outputs": [
    {
     "data": {
      "text/html": [
       "<div>\n",
       "<style scoped>\n",
       "    .dataframe tbody tr th:only-of-type {\n",
       "        vertical-align: middle;\n",
       "    }\n",
       "\n",
       "    .dataframe tbody tr th {\n",
       "        vertical-align: top;\n",
       "    }\n",
       "\n",
       "    .dataframe thead th {\n",
       "        text-align: right;\n",
       "    }\n",
       "</style>\n",
       "<table border=\"1\" class=\"dataframe\">\n",
       "  <thead>\n",
       "    <tr style=\"text-align: right;\">\n",
       "      <th></th>\n",
       "      <th>MAE</th>\n",
       "      <th>MSE</th>\n",
       "      <th>R-squared (R²)</th>\n",
       "    </tr>\n",
       "    <tr>\n",
       "      <th>Model</th>\n",
       "      <th></th>\n",
       "      <th></th>\n",
       "      <th></th>\n",
       "    </tr>\n",
       "  </thead>\n",
       "  <tbody>\n",
       "    <tr>\n",
       "      <th>LSTM</th>\n",
       "      <td>9.106542</td>\n",
       "      <td>166.215021</td>\n",
       "      <td>0.991704</td>\n",
       "    </tr>\n",
       "    <tr>\n",
       "      <th>Random Forest</th>\n",
       "      <td>11.728702</td>\n",
       "      <td>516.948041</td>\n",
       "      <td>0.973201</td>\n",
       "    </tr>\n",
       "    <tr>\n",
       "      <th>XGBoost</th>\n",
       "      <td>12.328767</td>\n",
       "      <td>600.072918</td>\n",
       "      <td>0.968892</td>\n",
       "    </tr>\n",
       "    <tr>\n",
       "      <th>SVR</th>\n",
       "      <td>15.929234</td>\n",
       "      <td>843.357062</td>\n",
       "      <td>0.956280</td>\n",
       "    </tr>\n",
       "    <tr>\n",
       "      <th>Linear Regression</th>\n",
       "      <td>19.543632</td>\n",
       "      <td>1013.927665</td>\n",
       "      <td>0.947437</td>\n",
       "    </tr>\n",
       "    <tr>\n",
       "      <th>LightGBM</th>\n",
       "      <td>30.450470</td>\n",
       "      <td>1964.617134</td>\n",
       "      <td>0.898153</td>\n",
       "    </tr>\n",
       "  </tbody>\n",
       "</table>\n",
       "</div>"
      ],
      "text/plain": [
       "                         MAE          MSE  R-squared (R²)\n",
       "Model                                                    \n",
       "LSTM                9.106542   166.215021        0.991704\n",
       "Random Forest      11.728702   516.948041        0.973201\n",
       "XGBoost            12.328767   600.072918        0.968892\n",
       "SVR                15.929234   843.357062        0.956280\n",
       "Linear Regression  19.543632  1013.927665        0.947437\n",
       "LightGBM           30.450470  1964.617134        0.898153"
      ]
     },
     "execution_count": 54,
     "metadata": {},
     "output_type": "execute_result"
    }
   ],
   "source": [
    "lstm_exists = 'mae_lstm' in locals()\n",
    "model_data = {\n",
    "    'Model': [\n",
    "        'Linear Regression', 'Random Forest', 'XGBoost', \n",
    "        'LightGBM', 'SVR'\n",
    "    ],\n",
    "    'MAE': [\n",
    "        locals().get('mae_lr', 0), locals().get('mae_rf', 0), locals().get('mae_xgb', 0),\n",
    "        locals().get('mae_lgb', 0), locals().get('mae_svr', 0)\n",
    "    ],\n",
    "    'MSE': [\n",
    "        locals().get('mse_lr', 0), locals().get('mse_rf', 0), locals().get('mse_xgb', 0),\n",
    "        locals().get('mse_lgb', 0), locals().get('mse_svr', 0)\n",
    "    ],\n",
    "    'R-squared (R²)': [\n",
    "        locals().get('r2_lr', 0), locals().get('r2_rf', 0), locals().get('r2_xgb', 0),\n",
    "        locals().get('r2_lgb', 0), locals().get('r2_svr', 0)\n",
    "    ]\n",
    "}\n",
    "\n",
    "if lstm_exists:\n",
    "    model_data['Model'].append('LSTM')\n",
    "    model_data['MAE'].append(locals().get('mae_lstm', 0))\n",
    "    model_data['MSE'].append(locals().get('mse_lstm', 0))\n",
    "    model_data['R-squared (R²)'].append(locals().get('r2_lstm', 0))\n",
    "\n",
    "# Create the DataFrame and sort it by the best performance (lowest error)\n",
    "comparison_df = pd.DataFrame(model_data).sort_values(by='MAE', ascending=True)\n",
    "comparison_df.set_index('Model', inplace=True)\n",
    "comparison_df"
   ]
  },
  {
   "cell_type": "markdown",
   "id": "5a3d79be",
   "metadata": {},
   "source": [
    "## Visualization"
   ]
  },
  {
   "cell_type": "code",
   "execution_count": 52,
   "id": "f5d76dce",
   "metadata": {},
   "outputs": [
    {
     "name": "stderr",
     "output_type": "stream",
     "text": [
      "C:\\Users\\Miggy\\AppData\\Local\\Temp\\ipykernel_25176\\1836044782.py:12: FutureWarning: \n",
      "\n",
      "Passing `palette` without assigning `hue` is deprecated and will be removed in v0.14.0. Assign the `y` variable to `hue` and set `legend=False` for the same effect.\n",
      "\n",
      "  sns.barplot(x='MAE', y='Model', data=plot_df.sort_values('MAE', ascending=True), palette='viridis', ax=ax1)\n",
      "C:\\Users\\Miggy\\AppData\\Local\\Temp\\ipykernel_25176\\1836044782.py:18: FutureWarning: \n",
      "\n",
      "Passing `palette` without assigning `hue` is deprecated and will be removed in v0.14.0. Assign the `y` variable to `hue` and set `legend=False` for the same effect.\n",
      "\n",
      "  sns.barplot(x='MSE', y='Model', data=plot_df.sort_values('MSE', ascending=True), palette='plasma', ax=ax2)\n",
      "C:\\Users\\Miggy\\AppData\\Local\\Temp\\ipykernel_25176\\1836044782.py:24: FutureWarning: \n",
      "\n",
      "Passing `palette` without assigning `hue` is deprecated and will be removed in v0.14.0. Assign the `y` variable to `hue` and set `legend=False` for the same effect.\n",
      "\n",
      "  sns.barplot(x='R-squared (R²)', y='Model', data=plot_df.sort_values('R-squared (R²)', ascending=False), palette='magma', ax=ax3)\n"
     ]
    },
    {
     "data": {
      "image/png": "[encoded data removed]",
      "text/plain": [
       "<Figure size 1000x1500 with 3 Axes>"
      ]
     },
     "metadata": {},
     "output_type": "display_data"
    }
   ],
   "source": [
    "# Reset index to use 'Model' as a column for plotting\n",
    "plot_df = comparison_df.reset_index()\n",
    "\n",
    "# Set up the plot style\n",
    "sns.set_style(\"whitegrid\")\n",
    "\n",
    "# Create a figure for the bar charts\n",
    "fig, (ax1, ax2, ax3) = plt.subplots(3, 1, figsize=(10, 15))\n",
    "fig.suptitle('Model Performance Comparison', fontsize=16, y=1.02)\n",
    "\n",
    "# Plot 1: Mean Absolute Error (MAE) - Lower is better\n",
    "sns.barplot(x='MAE', y='Model', data=plot_df.sort_values('MAE', ascending=True), palette='viridis', ax=ax1)\n",
    "ax1.set_title('Mean Absolute Error (Lower is Better)')\n",
    "ax1.set_xlabel('MAE Value')\n",
    "ax1.set_ylabel('Model')\n",
    "\n",
    "# Plot 2: Mean Squared Error (MSE) - Lower is better\n",
    "sns.barplot(x='MSE', y='Model', data=plot_df.sort_values('MSE', ascending=True), palette='plasma', ax=ax2)\n",
    "ax2.set_title('Mean Squared Error (Lower is Better)')\n",
    "ax2.set_xlabel('MSE Value')\n",
    "ax2.set_ylabel('Model')\n",
    "\n",
    "# Plot 3: R-squared (R²) - Higher is better\n",
    "sns.barplot(x='R-squared (R²)', y='Model', data=plot_df.sort_values('R-squared (R²)', ascending=False), palette='magma', ax=ax3)\n",
    "ax3.set_title('R-squared (R²) Score (Higher is Better)')\n",
    "ax3.set_xlabel('R² Score')\n",
    "ax3.set_ylabel('Model')\n",
    "\n",
    "plt.tight_layout(rect=[0, 0, 1, 1])\n",
    "plt.show()"
   ]
  },
  {
   "cell_type": "markdown",
   "id": "0f86b6f5",
   "metadata": {},
   "source": [
    "# Visualization Actual vs Predicted Values for the Best Model"
   ]
  },
  {
   "cell_type": "code",
   "execution_count": 53,
   "id": "8d950315",
   "metadata": {},
   "outputs": [
    {
     "data": {
      "image/png": "[encoded data removed]",
      "text/plain": [
       "<Figure size 1000x1000 with 1 Axes>"
      ]
     },
     "metadata": {},
     "output_type": "display_data"
    }
   ],
   "source": [
    "# Find the best model based on R-squared score\n",
    "best_model_name = comparison_df['R-squared (R²)'].idxmax()\n",
    "\n",
    "# Store predictions in a dictionary to easily retrieve them\n",
    "predictions = {\n",
    "    'Linear Regression': locals().get('y_pred_lr'),\n",
    "    'Random Forest': locals().get('y_pred_rf'),\n",
    "    'XGBoost': locals().get('y_pred_xgb'),\n",
    "    'LightGBM': locals().get('y_pred_lgb'),\n",
    "    'SVR': locals().get('y_pred_svr'),\n",
    "    'LSTM': locals().get('y_pred_lstm')\n",
    "}\n",
    "\n",
    "best_predictions = predictions[best_model_name]\n",
    "\n",
    "if best_model_name == 'LSTM' and lstm_exists:\n",
    "    actual_values = y_test_lstm\n",
    "else:\n",
    "    actual_values = y_test\n",
    "\n",
    "# Create the scatter plot\n",
    "plt.figure(figsize=(10, 10))\n",
    "sns.scatterplot(x=actual_values, y=best_predictions.flatten(), alpha=0.7)\n",
    "\n",
    "# Add the perfect prediction line (y=x)\n",
    "min_val = min(actual_values.min(), best_predictions.min())\n",
    "max_val = max(actual_values.max(), best_predictions.max())\n",
    "plt.plot([min_val, max_val], [min_val, max_val], 'r--', lw=2, label='Perfect Prediction')\n",
    "\n",
    "plt.title(f'Actual vs. Predicted Prices for {best_model_name}', fontsize=16)\n",
    "plt.xlabel('Actual Price', fontsize=12)\n",
    "plt.ylabel('Predicted Price', fontsize=12)\n",
    "plt.legend()\n",
    "plt.grid(True)\n",
    "plt.show()"
   ]
  },
  {
   "cell_type": "markdown",
   "id": "c8a9f78f",
   "metadata": {},
   "source": [
    "# Analysis (Bar Chart)"
   ]
  },
  {
   "cell_type": "markdown",
   "id": "9f867a87",
   "metadata": {},
   "source": [
    "### Model Performance Comparison Analysis"
   ]
  },
  {
   "cell_type": "markdown",
   "id": "625e669c",
   "metadata": {},
   "source": [
    "1. Mean Absolute Error (MAE) - Lower is Better\n",
    "\n",
    "\n",
    "Top Performer: The LSTM model has the lowest MAE, with an average error of approximately 9. This means, on average, its price prediction is off by only 9 units.\n",
    "\n",
    "\n",
    "High Performers: Random Forest and XGBoost form a close second tier, with MAEs around 10-12.\n",
    "\n",
    "\n",
    "Mid-Tier: SVR and Linear Regression show moderate error.\n",
    "\n",
    "\n",
    "Underperformer: LightGBM performs surprisingly poorly, with a very high MAE of over 30.\n",
    "\n",
    "\n",
    "2. Mean Squared Error (MSE) - Lower is Better\n",
    "\n",
    "\n",
    "Top Performer: The LSTM again demonstrates its superiority with the lowest MSE value (under 250).\n",
    "\n",
    "\n",
    "Key Insight: The gap between models is much larger in the MSE chart. This metric penalizes large errors more heavily. The extremely high MSE for LightGBM (~1950) suggests that while its average error was high, it also made a few very large, inaccurate predictions that were squared, dramatically increasing its MSE. The LSTM, by contrast, had no such catastrophic errors.\n",
    "\n",
    "\n",
    "3. R-squared (R²) Score - Higher is Better\n",
    "\n",
    "\n",
    "Top Performer: The LSTM achieves an R² score that is nearly a perfect 1.0. This indicates that the model can explain over 99% of the variance in the commodity prices, which is an exceptional result.\n",
    "\n",
    "\n",
    "High Performers: Random Forest and XGBoost also have excellent R² scores, but they are visibly lower than the LSTM's.\n",
    "\n",
    "\n",
    "Conclusion: This chart solidifies the LSTM's dominance. It not only has the lowest error but also the best explanatory power."
   ]
  },
  {
   "cell_type": "markdown",
   "id": "aa1b34b9",
   "metadata": {},
   "source": [
    "# Analysis Best Model (Scatter Plot)"
   ]
  },
  {
   "cell_type": "markdown",
   "id": "acf79763",
   "metadata": {},
   "source": [
    "Exceptional Accuracy: The data points form a very tight, linear cluster that aligns almost perfectly with the red \"Perfect Prediction\" line. This is the visual confirmation of the low MAE and high R² score seen in the bar charts.\n",
    "\n",
    "\n",
    "No Discernible Bias: The points are evenly distributed on both sides of the red line. The model does not systematically over-predict or under-predict prices.\n",
    "\n",
    "\n",
    "Consistent Performance: The model's accuracy is robust across all price levels. It performs just as well for low-priced items (e.g., under 100) as it does for high-priced items (e.g., 400-500). This indicates that the model has learned the underlying data patterns and can generalize well.\n",
    "\n",
    "\n",
    "Minimal Outliers: There are very few points that stray far from the line, which explains why the MSE score was so low. The model's errors are small and infrequent.\n",
    "\n",
    "\n",
    "The data represents a time series, where the price of a commodity at one point in time is related to its price at previous points. The LSTM architecture is specifically designed to capture these sequential, time-dependent patterns. The other models (Random Forest, XGBoost, etc.), while powerful, treat each row as an independent event and are less effective at learning from the temporal order of the data.\n",
    "\n",
    "\n",
    "The combination of quantitative metrics (bar charts) and qualitative visual evidence (scatter plot) provides overwhelming support for the LSTM model. It is accurate, reliable, and well-suited for this dataset.\n"
   ]
  },
  {
   "cell_type": "markdown",
   "id": "88cf04e4",
   "metadata": {},
   "source": []
  }
 ],
 "metadata": {
  "kernelspec": {
   "display_name": "base",
   "language": "python",
   "name": "python3"
  },
  "language_info": {
   "codemirror_mode": {
    "name": "ipython",
    "version": 3
   },
   "file_extension": ".py",
   "mimetype": "text/x-python",
   "name": "python",
   "nbconvert_exporter": "python",
   "pygments_lexer": "ipython3",
   "version": "3.12.7"
  }
 },
 "nbformat": 4,
 "nbformat_minor": 5
}
